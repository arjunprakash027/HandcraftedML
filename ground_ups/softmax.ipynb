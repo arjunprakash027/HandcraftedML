{
 "cells": [
  {
   "cell_type": "markdown",
   "metadata": {},
   "source": [
    "# Softmax Tutorial\n",
    "\n",
    "First we import the needed libraries:"
   ]
  },
  {
   "cell_type": "code",
   "execution_count": 2,
   "metadata": {
    "collapsed": true
   },
   "outputs": [],
   "source": [
    "import pandas as pd\n",
    "import numpy as np\n",
    "import matplotlib.pyplot as plt\n",
    "%matplotlib inline\n",
    "import scipy.sparse\n",
    "\n",
    "from sklearn.model_selection import train_test_split"
   ]
  },
  {
   "cell_type": "code",
   "execution_count": 3,
   "metadata": {
    "collapsed": false
   },
   "outputs": [
    {
     "name": "stderr",
     "output_type": "stream",
     "text": [
      "/home/arjunrao/.local/lib/python3.10/site-packages/tqdm/auto.py:21: TqdmWarning: IProgress not found. Please update jupyter and ipywidgets. See https://ipywidgets.readthedocs.io/en/stable/user_install.html\n",
      "  from .autonotebook import tqdm as notebook_tqdm\n"
     ]
    },
    {
     "name": "stdout",
     "output_type": "stream",
     "text": [
      "Path to dataset files: /home/arjunrao/.cache/kagglehub/datasets/mujtabamatin/air-quality-and-pollution-assessment/versions/2\n",
      "/home/arjunrao/.cache/kagglehub/datasets/mujtabamatin/air-quality-and-pollution-assessment/versions/2/updated_pollution_dataset.csv\n"
     ]
    }
   ],
   "source": [
    "import kagglehub\n",
    "from pathlib import Path\n",
    "# Download latest version\n",
    "path = kagglehub.dataset_download(\"mujtabamatin/air-quality-and-pollution-assessment\")\n",
    "\n",
    "print(\"Path to dataset files:\", path)\n",
    "\n",
    "directory = Path(path)\n",
    "\n",
    "for file in directory.iterdir():\n",
    "    print(file)\n",
    "df = pd.read_csv(f\"{path}/updated_pollution_dataset.csv\")"
   ]
  },
  {
   "cell_type": "code",
   "execution_count": 4,
   "metadata": {
    "collapsed": false
   },
   "outputs": [
    {
     "data": {
      "text/html": [
       "<div>\n",
       "<style scoped>\n",
       "    .dataframe tbody tr th:only-of-type {\n",
       "        vertical-align: middle;\n",
       "    }\n",
       "\n",
       "    .dataframe tbody tr th {\n",
       "        vertical-align: top;\n",
       "    }\n",
       "\n",
       "    .dataframe thead th {\n",
       "        text-align: right;\n",
       "    }\n",
       "</style>\n",
       "<table border=\"1\" class=\"dataframe\">\n",
       "  <thead>\n",
       "    <tr style=\"text-align: right;\">\n",
       "      <th></th>\n",
       "      <th>Temperature</th>\n",
       "      <th>Humidity</th>\n",
       "      <th>PM2.5</th>\n",
       "      <th>PM10</th>\n",
       "      <th>NO2</th>\n",
       "      <th>SO2</th>\n",
       "      <th>CO</th>\n",
       "      <th>Proximity_to_Industrial_Areas</th>\n",
       "      <th>Population_Density</th>\n",
       "      <th>Air Quality</th>\n",
       "    </tr>\n",
       "  </thead>\n",
       "  <tbody>\n",
       "    <tr>\n",
       "      <th>0</th>\n",
       "      <td>29.8</td>\n",
       "      <td>59.1</td>\n",
       "      <td>5.2</td>\n",
       "      <td>17.9</td>\n",
       "      <td>18.9</td>\n",
       "      <td>9.2</td>\n",
       "      <td>1.72</td>\n",
       "      <td>6.3</td>\n",
       "      <td>319</td>\n",
       "      <td>Moderate</td>\n",
       "    </tr>\n",
       "    <tr>\n",
       "      <th>1</th>\n",
       "      <td>28.3</td>\n",
       "      <td>75.6</td>\n",
       "      <td>2.3</td>\n",
       "      <td>12.2</td>\n",
       "      <td>30.8</td>\n",
       "      <td>9.7</td>\n",
       "      <td>1.64</td>\n",
       "      <td>6.0</td>\n",
       "      <td>611</td>\n",
       "      <td>Moderate</td>\n",
       "    </tr>\n",
       "    <tr>\n",
       "      <th>2</th>\n",
       "      <td>23.1</td>\n",
       "      <td>74.7</td>\n",
       "      <td>26.7</td>\n",
       "      <td>33.8</td>\n",
       "      <td>24.4</td>\n",
       "      <td>12.6</td>\n",
       "      <td>1.63</td>\n",
       "      <td>5.2</td>\n",
       "      <td>619</td>\n",
       "      <td>Moderate</td>\n",
       "    </tr>\n",
       "    <tr>\n",
       "      <th>3</th>\n",
       "      <td>27.1</td>\n",
       "      <td>39.1</td>\n",
       "      <td>6.1</td>\n",
       "      <td>6.3</td>\n",
       "      <td>13.5</td>\n",
       "      <td>5.3</td>\n",
       "      <td>1.15</td>\n",
       "      <td>11.1</td>\n",
       "      <td>551</td>\n",
       "      <td>Good</td>\n",
       "    </tr>\n",
       "    <tr>\n",
       "      <th>4</th>\n",
       "      <td>26.5</td>\n",
       "      <td>70.7</td>\n",
       "      <td>6.9</td>\n",
       "      <td>16.0</td>\n",
       "      <td>21.9</td>\n",
       "      <td>5.6</td>\n",
       "      <td>1.01</td>\n",
       "      <td>12.7</td>\n",
       "      <td>303</td>\n",
       "      <td>Good</td>\n",
       "    </tr>\n",
       "    <tr>\n",
       "      <th>...</th>\n",
       "      <td>...</td>\n",
       "      <td>...</td>\n",
       "      <td>...</td>\n",
       "      <td>...</td>\n",
       "      <td>...</td>\n",
       "      <td>...</td>\n",
       "      <td>...</td>\n",
       "      <td>...</td>\n",
       "      <td>...</td>\n",
       "      <td>...</td>\n",
       "    </tr>\n",
       "    <tr>\n",
       "      <th>4995</th>\n",
       "      <td>40.6</td>\n",
       "      <td>74.1</td>\n",
       "      <td>116.0</td>\n",
       "      <td>126.7</td>\n",
       "      <td>45.5</td>\n",
       "      <td>25.7</td>\n",
       "      <td>2.11</td>\n",
       "      <td>2.8</td>\n",
       "      <td>765</td>\n",
       "      <td>Hazardous</td>\n",
       "    </tr>\n",
       "    <tr>\n",
       "      <th>4996</th>\n",
       "      <td>28.1</td>\n",
       "      <td>96.9</td>\n",
       "      <td>6.9</td>\n",
       "      <td>25.0</td>\n",
       "      <td>25.3</td>\n",
       "      <td>10.8</td>\n",
       "      <td>1.54</td>\n",
       "      <td>5.7</td>\n",
       "      <td>709</td>\n",
       "      <td>Moderate</td>\n",
       "    </tr>\n",
       "    <tr>\n",
       "      <th>4997</th>\n",
       "      <td>25.9</td>\n",
       "      <td>78.2</td>\n",
       "      <td>14.2</td>\n",
       "      <td>22.1</td>\n",
       "      <td>34.8</td>\n",
       "      <td>7.8</td>\n",
       "      <td>1.63</td>\n",
       "      <td>9.6</td>\n",
       "      <td>379</td>\n",
       "      <td>Moderate</td>\n",
       "    </tr>\n",
       "    <tr>\n",
       "      <th>4998</th>\n",
       "      <td>25.3</td>\n",
       "      <td>44.4</td>\n",
       "      <td>21.4</td>\n",
       "      <td>29.0</td>\n",
       "      <td>23.7</td>\n",
       "      <td>5.7</td>\n",
       "      <td>0.89</td>\n",
       "      <td>11.6</td>\n",
       "      <td>241</td>\n",
       "      <td>Good</td>\n",
       "    </tr>\n",
       "    <tr>\n",
       "      <th>4999</th>\n",
       "      <td>24.1</td>\n",
       "      <td>77.9</td>\n",
       "      <td>81.7</td>\n",
       "      <td>94.3</td>\n",
       "      <td>23.2</td>\n",
       "      <td>10.5</td>\n",
       "      <td>1.38</td>\n",
       "      <td>8.3</td>\n",
       "      <td>461</td>\n",
       "      <td>Moderate</td>\n",
       "    </tr>\n",
       "  </tbody>\n",
       "</table>\n",
       "<p>5000 rows × 10 columns</p>\n",
       "</div>"
      ],
      "text/plain": [
       "      Temperature  Humidity  PM2.5   PM10   NO2   SO2    CO  \\\n",
       "0            29.8      59.1    5.2   17.9  18.9   9.2  1.72   \n",
       "1            28.3      75.6    2.3   12.2  30.8   9.7  1.64   \n",
       "2            23.1      74.7   26.7   33.8  24.4  12.6  1.63   \n",
       "3            27.1      39.1    6.1    6.3  13.5   5.3  1.15   \n",
       "4            26.5      70.7    6.9   16.0  21.9   5.6  1.01   \n",
       "...           ...       ...    ...    ...   ...   ...   ...   \n",
       "4995         40.6      74.1  116.0  126.7  45.5  25.7  2.11   \n",
       "4996         28.1      96.9    6.9   25.0  25.3  10.8  1.54   \n",
       "4997         25.9      78.2   14.2   22.1  34.8   7.8  1.63   \n",
       "4998         25.3      44.4   21.4   29.0  23.7   5.7  0.89   \n",
       "4999         24.1      77.9   81.7   94.3  23.2  10.5  1.38   \n",
       "\n",
       "      Proximity_to_Industrial_Areas  Population_Density Air Quality  \n",
       "0                               6.3                 319    Moderate  \n",
       "1                               6.0                 611    Moderate  \n",
       "2                               5.2                 619    Moderate  \n",
       "3                              11.1                 551        Good  \n",
       "4                              12.7                 303        Good  \n",
       "...                             ...                 ...         ...  \n",
       "4995                            2.8                 765   Hazardous  \n",
       "4996                            5.7                 709    Moderate  \n",
       "4997                            9.6                 379    Moderate  \n",
       "4998                           11.6                 241        Good  \n",
       "4999                            8.3                 461    Moderate  \n",
       "\n",
       "[5000 rows x 10 columns]"
      ]
     },
     "execution_count": 4,
     "metadata": {},
     "output_type": "execute_result"
    }
   ],
   "source": [
    "df"
   ]
  },
  {
   "cell_type": "code",
   "execution_count": 5,
   "metadata": {},
   "outputs": [],
   "source": [
    "target_list = df['Air Quality'].unique().tolist()\n",
    "\n",
    "df['Air Quality'] = df['Air Quality'].apply(lambda x: target_list.index(x))"
   ]
  },
  {
   "cell_type": "code",
   "execution_count": 6,
   "metadata": {
    "collapsed": false
   },
   "outputs": [],
   "source": [
    "x_train, x_test, y_train, y_test = train_test_split(df.drop(\"Air Quality\", axis=1), df[\"Air Quality\"], test_size=0.2, random_state=42)"
   ]
  },
  {
   "cell_type": "code",
   "execution_count": 7,
   "metadata": {
    "collapsed": false
   },
   "outputs": [],
   "source": [
    "def oneHotIt(Y):\n",
    "    return np.eye(Y.nunique())[Y]"
   ]
  },
  {
   "cell_type": "code",
   "execution_count": 8,
   "metadata": {},
   "outputs": [
    {
     "data": {
      "text/plain": [
       "array([[0., 0., 1., 0.],\n",
       "       [0., 1., 0., 0.],\n",
       "       [0., 0., 0., 1.],\n",
       "       ...,\n",
       "       [0., 0., 0., 1.],\n",
       "       [0., 1., 0., 0.],\n",
       "       [0., 0., 1., 0.]])"
      ]
     },
     "execution_count": 8,
     "metadata": {},
     "output_type": "execute_result"
    }
   ],
   "source": [
    "oneHotIt(y_train)"
   ]
  },
  {
   "cell_type": "markdown",
   "metadata": {},
   "source": [
    "Here we perform the softmax transformation:\n",
    "This allows us to get probabilities for each class score that sum to 100%.\n",
    "\n",
    "\n",
    "<img src=\"https://upload.wikimedia.org/math/0/9/9/0991837b7d5a522ebc156f51dadbed0e.png\">"
   ]
  },
  {
   "cell_type": "code",
   "execution_count": 9,
   "metadata": {
    "collapsed": true
   },
   "outputs": [],
   "source": [
    "def softmax(z):\n",
    "\n",
    "    # you basically take the maximum of weight and substract it with all other weights\n",
    "    z -= np.max(z)\n",
    "\n",
    "    # You then take exponent of weights since its negative and sum it along each row \n",
    "    # You then divide each row with its transposed exponent to normalize it and transpose it back to give its original shape\n",
    "    sm = (np.exp(z).T / np.sum(np.exp(z),axis=1)).T\n",
    "    return sm"
   ]
  },
  {
   "cell_type": "code",
   "execution_count": 10,
   "metadata": {
    "collapsed": false
   },
   "outputs": [],
   "source": [
    "def getProbsAndPreds(X,w):\n",
    "    probs = softmax(np.dot(X,w))\n",
    "    preds = np.argmax(probs,axis=1)\n",
    "    return probs,preds"
   ]
  },
  {
   "cell_type": "code",
   "execution_count": 11,
   "metadata": {},
   "outputs": [],
   "source": [
    "def getLoss(w,x,y,lam):\n",
    "    m = x.shape[-2] #First we get the number of training examples\n",
    "    y_mat = oneHotIt(y)\n",
    "    # In this we mutlpoly every feature with its weight for 1 class. So if we have 9 features and 4 classes and total of 1000 entries, we will get 1000 x 4 matrix\n",
    "    scores = np.dot(x,w)\n",
    "\n",
    "    prob = softmax(scores) #Next we perform a softmax on these scores to get their probabilities\n",
    "    loss = (-3 / m) * np.sum(y_mat * np.log(prob)) + (lam/2)*np.sum(w*w) #We then find the loss of the probabilities\n",
    "    grad = (-3 / m) * np.dot(x.T,(y_mat - prob)) + lam*w #And compute the gradient for that loss\n",
    "    return loss,grad"
   ]
  },
  {
   "cell_type": "code",
   "execution_count": 12,
   "metadata": {},
   "outputs": [],
   "source": [
    "def getAccuracy(x_test,y_test):\n",
    "    preds = getProbsAndPreds(x_test,w)[1]\n",
    "    actual = oneHotIt(y_test).argmax(axis=1)\n",
    "    assert preds.shape == actual.shape\n",
    "    return (np.sum(preds == actual)) / len(actual)"
   ]
  },
  {
   "cell_type": "code",
   "execution_count": 15,
   "metadata": {
    "collapsed": false
   },
   "outputs": [
    {
     "name": "stderr",
     "output_type": "stream",
     "text": [
      "/tmp/ipykernel_550520/1034029211.py:8: RuntimeWarning: invalid value encountered in divide\n",
      "  sm = (np.exp(z).T / np.sum(np.exp(z),axis=1)).T\n",
      "/tmp/ipykernel_550520/3826276097.py:8: RuntimeWarning: divide by zero encountered in log\n",
      "  loss = (-3 / m) * np.sum(y_mat * np.log(prob)) + (lam/2)*np.sum(w*w) #We then find the loss of the probabilities\n",
      "/tmp/ipykernel_550520/3826276097.py:8: RuntimeWarning: invalid value encountered in multiply\n",
      "  loss = (-3 / m) * np.sum(y_mat * np.log(prob)) + (lam/2)*np.sum(w*w) #We then find the loss of the probabilities\n"
     ]
    },
    {
     "ename": "IndexError",
     "evalue": "list index out of range",
     "output_type": "error",
     "traceback": [
      "\u001b[0;31m---------------------------------------------------------------------------\u001b[0m",
      "\u001b[0;31mIndexError\u001b[0m                                Traceback (most recent call last)",
      "Cell \u001b[0;32mIn[15], line 15\u001b[0m\n\u001b[1;32m     11\u001b[0m     w \u001b[38;5;241m=\u001b[39m w \u001b[38;5;241m-\u001b[39m (learningRate \u001b[38;5;241m*\u001b[39m grad)\n\u001b[1;32m     13\u001b[0m plt\u001b[38;5;241m.\u001b[39mplot(losses)\n\u001b[0;32m---> 15\u001b[0m \u001b[43mlosses\u001b[49m\u001b[43m[\u001b[49m\u001b[38;5;241;43m999\u001b[39;49m\u001b[43m]\u001b[49m\n",
      "\u001b[0;31mIndexError\u001b[0m: list index out of range"
     ]
    },
    {
     "data": {
      "image/png": "[encoded data removed]",
      "text/plain": [
       "<Figure size 640x480 with 1 Axes>"
      ]
     },
     "metadata": {},
     "output_type": "display_data"
    }
   ],
   "source": [
    "# We will get a 2d array of total features * total classes (NxM)\n",
    "w = np.zeros([x_train.shape[1],y_train.nunique()])\n",
    "\n",
    "lam = 1\n",
    "iterations = 100\n",
    "learningRate = 0.01\n",
    "losses = []\n",
    "for i in range(0,iterations):\n",
    "    loss,grad = getLoss(w,x_train,y_train,lam)\n",
    "    losses.append(loss)\n",
    "    w = w - (learningRate * grad)\n",
    "\n",
    "plt.plot(losses)\n",
    "\n",
    "losses[999]"
   ]
  },
  {
   "cell_type": "code",
   "execution_count": 175,
   "metadata": {},
   "outputs": [
    {
     "name": "stdout",
     "output_type": "stream",
     "text": [
      "4000\n",
      "(4000, 4) (4000, 4) (4000, 4)\n"
     ]
    },
    {
     "data": {
      "text/plain": [
       "array([[-0.25, -0.25,  0.75, -0.25],\n",
       "       [-0.25,  0.75, -0.25, -0.25],\n",
       "       [-0.25, -0.25, -0.25,  0.75],\n",
       "       ...,\n",
       "       [-0.25, -0.25, -0.25,  0.75],\n",
       "       [-0.25,  0.75, -0.25, -0.25],\n",
       "       [-0.25, -0.25,  0.75, -0.25]])"
      ]
     },
     "execution_count": 175,
     "metadata": {},
     "output_type": "execute_result"
    }
   ],
   "source": [
    "w = np.zeros([x_train.shape[1],y_train.nunique()])\n",
    "lam = 1\n",
    "\n",
    "m = x_train.shape[0] #First we get the number of training examples\n",
    "\n",
    "print(m)\n",
    "y_mat = oneHotIt(y_train) #Next we convert the integer class coding into a one-hot representation\n",
    "scores = np.dot(x_train,w) #Then we compute raw class scores given our input and current weights\n",
    "\n",
    "#scaling with maximum\n",
    "scores -= np.max(scores)\n",
    "\n",
    "#print(np.exp(scores).T / np.sum(np.exp(scores), axis=1))\n",
    "sm = (np.exp(scores).T / np.sum(np.exp(scores),axis=1)).T\n",
    "\n",
    "# Taking Hadamard product of ground truth and log of probablities\n",
    "mult = y_mat * np.log(sm)\n",
    "\n",
    "print(y_mat.shape,sm.shape,mult.shape)\n",
    "np.sum(mult,axis=1).sum()\n",
    "\n",
    "# We get the total loss by summing all the log of probablites for all ground truth values and the adding a regularizer term in the end to avoid overfitting\n",
    "loss = (-1 / m) * np.sum(y_mat * np.log(sm)) + (lam/2)*np.sum(w*w)\n",
    "grad = (-1 / m) * np.dot(x_train.T,(y_mat - sm)) + lam*w\n",
    "\n",
    "grad.shape\n",
    "\n",
    "x_train.T.shape\n",
    "(y_mat - sm).shape\n",
    "\n",
    "y_mat - sm"
   ]
  },
  {
   "cell_type": "code",
   "execution_count": 239,
   "metadata": {
    "collapsed": false
   },
   "outputs": [
    {
     "data": {
      "text/plain": [
       "<matplotlib.collections.PathCollection at 0x7f75d8c0dcc0>"
      ]
     },
     "execution_count": 239,
     "metadata": {},
     "output_type": "execute_result"
    },
    {
     "data": {
      "image/png": "[encoded data removed]",
      "text/plain": [
       "<Figure size 640x480 with 1 Axes>"
      ]
     },
     "metadata": {},
     "output_type": "display_data"
    }
   ],
   "source": [
    "x = np.arange(len(losses))\n",
    "plt.scatter(x,losses)"
   ]
  },
  {
   "cell_type": "code",
   "execution_count": 240,
   "metadata": {
    "collapsed": false
   },
   "outputs": [
    {
     "name": "stdout",
     "output_type": "stream",
     "text": [
      "Training Accuracy:  0.69925\n",
      "Test Accuracy:  0.711\n"
     ]
    }
   ],
   "source": [
    "print ('Training Accuracy: ', getAccuracy(x_train,y_train))\n",
    "print ('Test Accuracy: ', getAccuracy(x_test,y_test))"
   ]
  },
  {
   "cell_type": "code",
   "execution_count": null,
   "metadata": {},
   "outputs": [],
   "source": []
  }
 ],
 "metadata": {
  "kernelspec": {
   "display_name": "Python 3",
   "language": "python",
   "name": "python3"
  },
  "language_info": {
   "codemirror_mode": {
    "name": "ipython",
    "version": 3
   },
   "file_extension": ".py",
   "mimetype": "text/x-python",
   "name": "python",
   "nbconvert_exporter": "python",
   "pygments_lexer": "ipython3",
   "version": "3.10.12"
  }
 },
 "nbformat": 4,
 "nbformat_minor": 0
}
