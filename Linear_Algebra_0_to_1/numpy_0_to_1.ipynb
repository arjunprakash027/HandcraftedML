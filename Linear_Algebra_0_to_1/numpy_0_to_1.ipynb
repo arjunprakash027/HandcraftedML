{
 "cells": [
  {
   "cell_type": "markdown",
   "id": "5881d3a3",
   "metadata": {},
   "source": [
    "This is not a numpy from ground up, but I try to use all the functions that numpy provides us to perform mathematical calculations"
   ]
  },
  {
   "cell_type": "markdown",
   "id": "bfae1bc2",
   "metadata": {},
   "source": [
    "## Internal workings of numpy\n",
    "\n",
    "### Basics\n",
    "- Written mostly in C lang and python is just a wrapper around it\n",
    "- Data is stored as contigeous block of memory that can be easily cached by CPU\n",
    "- Single Instruction Multiple Data paradigm used instead of Loops\n",
    "- ndarray is the wrapper around chunck of memory allocated in C\n",
    "\n",
    "### Vectorization\n",
    "- Vectorization is what sppeds up numpy computations\n",
    "- Instead of using python loops, numpy calls its internal C code to perform operations that involves looping \n",
    "- Uses SIMD to execute the operation parallely\n",
    "\n",
    "### Views\n",
    "- Points to same memory location but with different dimentions (ex, using reshape in numpy)\n",
    "\n",
    "### Linear Alg in numpy\n",
    "- uses BLAS and LAPACK (optimized C and Fortran program) for matrix operations\n",
    "- These are heavily CPU optimized codes \n",
    "- numpy does not parallalize comps by itself, BLAS and LAPACK does it \n",
    "\n",
    "### C order and F order\n",
    "- C order stores rows contegeously\n",
    "- F order stores columns contegeouly \n",
    "\n",
    "``` python\n",
    "import numpy as np\n",
    "\n",
    "# C-order (default)\n",
    "arr_c = np.array([[1, 2, 3],\n",
    "                  [4, 5, 6]], order='C')\n",
    "\n",
    "# Fortran-order\n",
    "arr_f = np.array([[1, 2, 3],\n",
    "                  [4, 5, 6]], order='F')\n",
    "arr_c:\n",
    "[1, 2, 3, 4, 5, 6]  # stored row-wise\n",
    "\n",
    "arr_f:\n",
    "[1, 4, 2, 5, 3, 6]  # stored column-wise\n",
    "```\n",
    "\n",
    "### How data memory is managed internally\n",
    "- WHen a ndarray is created, python creates a ndarray object but only stores the metadata such as pointer to location of data\n",
    "- Data is allocated a memory using c code inside and all the operations are done by c code on this data\n",
    "- When this object reference count goes to 0, the memory is de-allocated by c program "
   ]
  },
  {
   "cell_type": "code",
   "execution_count": 4,
   "id": "b1b75308",
   "metadata": {},
   "outputs": [],
   "source": [
    "import numpy as np"
   ]
  },
  {
   "cell_type": "code",
   "execution_count": null,
   "id": "3a8c45b0",
   "metadata": {},
   "outputs": [
    {
     "name": "stdout",
     "output_type": "stream",
     "text": [
      "49.3 µs ± 631 ns per loop (mean ± std. dev. of 7 runs, 10,000 loops each)\n"
     ]
    }
   ],
   "source": [
    "# A general comparison between python loop and numpy \n",
    "\n",
    "def python_dot_prod(\n",
    "        a: list,\n",
    "        b: list\n",
    ") -> float:\n",
    "    \n",
    "    z = 0.\n",
    "\n",
    "    for i in range(len(a)):\n",
    "        z += a[i] * b[i]\n",
    "    \n",
    "    return z\n",
    "\n",
    "a = list(range(1000))\n",
    "b = list(range(1000))\n",
    "\n",
    "%timeit python_dot_prod(a,b)"
   ]
  },
  {
   "cell_type": "code",
   "execution_count": 11,
   "id": "adc49c84",
   "metadata": {},
   "outputs": [
    {
     "name": "stdout",
     "output_type": "stream",
     "text": [
      "1.01 µs ± 5.96 ns per loop (mean ± std. dev. of 7 runs, 1,000,000 loops each)\n"
     ]
    }
   ],
   "source": [
    "def numpy_dot_prod(\n",
    "        a: np.array,\n",
    "        b: np.array\n",
    ") -> float:\n",
    "    \n",
    "    return a.dot(b)\n",
    "\n",
    "a = np.arange(1000)\n",
    "b = np.arange(1000)\n",
    "\n",
    "%timeit numpy_dot_prod(a,b)"
   ]
  },
  {
   "cell_type": "code",
   "execution_count": 26,
   "id": "3e6785d4",
   "metadata": {},
   "outputs": [
    {
     "name": "stdout",
     "output_type": "stream",
     "text": [
      "[[1.+0.j 2.+0.j 3.+0.j]\n",
      " [4.+0.j 5.+0.j 6.+0.j]]\n",
      "complex64\n",
      "(24, 8)\n",
      "  C_CONTIGUOUS : True\n",
      "  F_CONTIGUOUS : False\n",
      "  OWNDATA : True\n",
      "  WRITEABLE : True\n",
      "  ALIGNED : True\n",
      "  WRITEBACKIFCOPY : False\n",
      "\n",
      "(2, 3)\n"
     ]
    }
   ],
   "source": [
    "# Workout on how to get the address of memory block the data is in and use stried to manually move in them\n",
    "lst = [[1, 2, 3], \n",
    "       [4, 5, 6]]\n",
    "ary2d = np.array(lst,order='C',dtype='complex64')\n",
    "\n",
    "print(ary2d)\n",
    "print(ary2d.dtype)\n",
    "print(ary2d.strides)\n",
    "print(ary2d.flags)\n",
    "print(ary2d.shape)"
   ]
  },
  {
   "cell_type": "code",
   "execution_count": 61,
   "id": "24d79b3b",
   "metadata": {},
   "outputs": [
    {
     "name": "stdout",
     "output_type": "stream",
     "text": [
      "[[1 1 1 1]\n",
      " [1 1 1 1]\n",
      " [1 1 1 1]]\n",
      "(16, 4)\n",
      "[[0 0 0 0]\n",
      " [0 0 0 0]\n",
      " [0 0 0 0]]\n",
      "[[69 69 69 69]\n",
      " [69 69 69 69]\n",
      " [69 69 69 69]]\n",
      "[[1. 0. 0. 0.]\n",
      " [0. 1. 0. 0.]\n",
      " [0. 0. 1. 0.]\n",
      " [0. 0. 0. 1.]]\n",
      "[0.1  0.11 0.12 0.13 0.14 0.15 0.16 0.17 0.18 0.19 0.2  0.21 0.22 0.23\n",
      " 0.24 0.25 0.26 0.27 0.28 0.29 0.3  0.31 0.32 0.33 0.34 0.35 0.36 0.37\n",
      " 0.38 0.39 0.4  0.41 0.42 0.43 0.44 0.45 0.46 0.47 0.48 0.49 0.5  0.51\n",
      " 0.52 0.53 0.54 0.55 0.56 0.57 0.58 0.59 0.6  0.61 0.62 0.63 0.64 0.65\n",
      " 0.66 0.67 0.68 0.69 0.7  0.71 0.72 0.73 0.74 0.75 0.76 0.77 0.78 0.79\n",
      " 0.8  0.81 0.82 0.83 0.84 0.85 0.86 0.87 0.88 0.89 0.9  0.91 0.92 0.93\n",
      " 0.94 0.95 0.96 0.97 0.98 0.99 1.   1.01 1.02 1.03 1.04 1.05 1.06 1.07\n",
      " 1.08 1.09]\n",
      "[0.5        0.61111111 0.72222222 0.83333333 0.94444444 1.05555556\n",
      " 1.16666667 1.27777778 1.38888889 1.5       ]\n",
      "[[  0.           8.        ]\n",
      " [  1.11111111  18.22222222]\n",
      " [  2.22222222  28.44444444]\n",
      " [  3.33333333  38.66666667]\n",
      " [  4.44444444  48.88888889]\n",
      " [  5.55555556  59.11111111]\n",
      " [  6.66666667  69.33333333]\n",
      " [  7.77777778  79.55555556]\n",
      " [  8.88888889  89.77777778]\n",
      " [ 10.         100.        ]]\n",
      "[[1 0 0]\n",
      " [0 2 0]\n",
      " [0 0 3]]\n",
      "[[1. 1. 0. 0. 0.]\n",
      " [0. 1. 1. 0. 0.]\n",
      " [0. 0. 1. 1. 0.]\n",
      " [0. 0. 0. 1. 1.]\n",
      " [0. 0. 0. 0. 1.]]\n"
     ]
    }
   ],
   "source": [
    "# Construct an array\n",
    "\n",
    "ones = np.ones((3,4),dtype='int32')\n",
    "print(ones)\n",
    "print(ones.strides)\n",
    "\n",
    "zeros = np.zeros((3,4),dtype='int32')\n",
    "print(zeros)\n",
    "\n",
    "# arrays containing arbitrary values\n",
    "sixtynines = np.zeros((3,4),dtype='int32') + 69\n",
    "print(sixtynines)\n",
    "\n",
    "# Identiy matrices using eye\n",
    "eye = np.eye(4)\n",
    "print(eye)\n",
    "\n",
    "#linspace and ranges\n",
    "ranges = np.arange(0.1,1.1,0.01)\n",
    "print(ranges)\n",
    "\n",
    "linspace = np.linspace(.5,1.5,10)\n",
    "print(linspace)\n",
    "\n",
    "\n",
    "# Interpolating\n",
    "start_pos = np.array([0, 8])\n",
    "end_pos = np.array([10, 100])\n",
    "\n",
    "positions = np.linspace(start_pos, end_pos, num=10)\n",
    "print(positions)\n",
    "\n",
    "diag = np.diag([1,2,3])\n",
    "print(diag)\n",
    "\n",
    "eye_more = np.eye(5) + np.eye(5,k=1)\n",
    "print(eye_more)"
   ]
  },
  {
   "cell_type": "markdown",
   "id": "ab95da6e",
   "metadata": {},
   "source": []
  },
  {
   "cell_type": "code",
   "execution_count": null,
   "id": "b1262f1b",
   "metadata": {},
   "outputs": [
    {
     "name": "stdout",
     "output_type": "stream",
     "text": [
      "[[2 3 4]\n",
      " [5 6 7]]\n",
      "new ary [[ 46.  70. 114.]\n",
      " [184. 286. 426.]]\n",
      "ary [[2 3 4]\n",
      " [5 6 7]]\n",
      "new ary 2 [[2. 3. 4.]\n",
      " [5. 6. 7.]]\n",
      "[[ 9. 12. 15.]]\n",
      "0.816496580927726\n",
      "0.6666666666666666\n",
      "[[13 36 59]\n",
      " [ 3  5  7]]\n"
     ]
    }
   ],
   "source": [
    "# math and ufuncs\n",
    "ary = np.array([[1, 2, 3], [4, 5, 6]])\n",
    "ary = np.add(ary,1)\n",
    "print(ary)\n",
    "ary + 1 #is also possible\n",
    "\n",
    "#custom ufuncs using numba\n",
    "from numba import vectorize, guvectorize\n",
    "\n",
    "@vectorize(['float32(float32)','float64(float64)'],target='parallel')\n",
    "def non_linear(x):\n",
    "    return x**2 + x**3 + 34\n",
    "\n",
    "new_ary = non_linear(ary)\n",
    "\n",
    "print(\"new ary\",new_ary)\n",
    "print(\"ary\",ary)\n",
    "\n",
    "@guvectorize(['void(float64[:,:], float64[:,:])'], '(n,m) -> (n,m)')\n",
    "def reducer(x,out):\n",
    "    \n",
    "    for i in range(x.shape[0]):\n",
    "        out[i] = x[i]\n",
    "\n",
    "new_ary_2 = reducer(ary)\n",
    "print(\"new ary 2\",new_ary_2)\n",
    "\n",
    "@guvectorize(['void(float64[:], float64[:], float64[:], float64[:])'], '(n),(n),()->(n)')\n",
    "def scale_and_add(x, y, scalar_array, out):\n",
    "    scalar = scalar_array[0]\n",
    "    for i in range(x.shape[0]):\n",
    "        out[i] = x[i] + scalar * y[i]\n",
    "\n",
    "x = np.array([1., 2., 3.])\n",
    "y = np.array([4., 5., 6.])\n",
    "s = np.array([2.])\n",
    "\n",
    "result = scale_and_add(x, y, s)\n",
    "print(result)\n",
    "\n",
    "print(np.std(x))\n",
    "print(np.var(x))\n",
    "\n",
    "#Broadcaasting -> dimentions can be different but never numbewr of elements in each row\n",
    "print(np.array([1,2,3]) + np.array([[12,34,56],[2,3,4]]))"
   ]
  },
  {
   "cell_type": "code",
   "execution_count": null,
   "id": "9c4b2a9f",
   "metadata": {},
   "outputs": [
    {
     "name": "stdout",
     "output_type": "stream",
     "text": [
      "[4 5 6]\n",
      "[[1 2]\n",
      " [4 5]]\n"
     ]
    }
   ],
   "source": [
    "# Indexing\n",
    "\n",
    "# Normal indexing creats a view, which is just a pointer with differnt strides to orignal array\n",
    "# Fancy indexsing is accesing non contegeous elements of the array and therefore creates a new array and not a view\n",
    "\n",
    "arr = np.array([[1,2,3],\n",
    "                [4,5,6]])\n",
    "\n",
    "arr2 = arr[1] #creates a view\n",
    "\n",
    "arr3 = arr[1].copy() #creates a copy\n",
    "print(arr2)\n",
    "\n",
    "fancy = arr[:,[0,1]] #fancy indexing, can be used for convolution \n",
    "print(fancy)"
   ]
  },
  {
   "cell_type": "markdown",
   "id": "709c3ae1",
   "metadata": {},
   "source": [
    "Logical operators\n",
    "\n",
    "- A: & or np.bitwise_and\n",
    "- Or: | or np.bitwise_or\n",
    "- Xor: ^ or np.bitwise_xor\n",
    "- Not: ~ or np.bitwise_not"
   ]
  },
  {
   "cell_type": "code",
   "execution_count": 160,
   "id": "f806a2f8",
   "metadata": {},
   "outputs": [
    {
     "name": "stdout",
     "output_type": "stream",
     "text": [
      "[[False  True False]\n",
      " [ True False  True]]\n",
      "[[ 0 69  0]\n",
      " [69  0 69]]\n"
     ]
    }
   ],
   "source": [
    "# masks\n",
    "\n",
    "arr = np.array([[1,2,3],\n",
    "                [4,5,6]])\n",
    "\n",
    "even_mask = (arr % 2 == 0)\n",
    "\n",
    "print(even_mask)\n",
    "\n",
    "arr[even_mask]\n",
    "\n",
    "# where to replace values\n",
    "print(np.where(even_mask,69,0))"
   ]
  },
  {
   "cell_type": "code",
   "execution_count": null,
   "id": "9998f687",
   "metadata": {},
   "outputs": [
    {
     "name": "stdout",
     "output_type": "stream",
     "text": [
      "True\n",
      "[1 2 3 4 5 6]\n",
      "[1 2 3 4 5 6]\n",
      "[1 2 3 4 5 6]\n"
     ]
    }
   ],
   "source": [
    "# reshape array -> creates a new view of same array\n",
    "\n",
    "arr = np.array([[1,2,3],\n",
    "                [4,5,6]])\n",
    "\n",
    "arr_re = arr.reshape(3,2)\n",
    "\n",
    "print(np.may_share_memory(arr,arr_re)) # confirms its a view and not copy\n",
    "arr_re\n",
    "\n",
    "print(arr.reshape(-1))\n",
    "print(arr.flatten()) #view\n",
    "print(arr.ravel()) #copy"
   ]
  },
  {
   "cell_type": "code",
   "execution_count": 156,
   "id": "93e0daba",
   "metadata": {},
   "outputs": [
    {
     "name": "stdout",
     "output_type": "stream",
     "text": [
      "[[1 2 3]\n",
      " [4 5 6]\n",
      " [1 2 3]\n",
      " [4 5 6]]\n",
      "[[1 2 3 1 2 3]\n",
      " [4 5 6 4 5 6]]\n"
     ]
    }
   ],
   "source": [
    "# concatenating arrays\n",
    "\n",
    "arr = np.array([[1,2,3],\n",
    "                [4,5,6]])\n",
    "\n",
    "print(np.concatenate((arr,arr),axis=0))\n",
    "print(np.concatenate((arr,arr),axis=1))"
   ]
  },
  {
   "cell_type": "code",
   "execution_count": null,
   "id": "3c03f8b4",
   "metadata": {},
   "outputs": [],
   "source": []
  }
 ],
 "metadata": {
  "kernelspec": {
   "display_name": "Python 3",
   "language": "python",
   "name": "python3"
  },
  "language_info": {
   "codemirror_mode": {
    "name": "ipython",
    "version": 3
   },
   "file_extension": ".py",
   "mimetype": "text/x-python",
   "name": "python",
   "nbconvert_exporter": "python",
   "pygments_lexer": "ipython3",
   "version": "3.10.12"
  }
 },
 "nbformat": 4,
 "nbformat_minor": 5
}
