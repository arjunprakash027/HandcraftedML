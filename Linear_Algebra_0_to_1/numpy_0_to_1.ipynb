{
 "cells": [
  {
   "cell_type": "markdown",
   "id": "5881d3a3",
   "metadata": {},
   "source": [
    "This is not a numpy from ground up, but I try to use all the functions that numpy provides us to perform mathematical calculations"
   ]
  },
  {
   "cell_type": "code",
   "execution_count": 2,
   "id": "b1b75308",
   "metadata": {},
   "outputs": [],
   "source": [
    "import numpy as np"
   ]
  },
  {
   "cell_type": "markdown",
   "id": "ab95da6e",
   "metadata": {},
   "source": []
  }
 ],
 "metadata": {
  "kernelspec": {
   "display_name": "Python 3",
   "language": "python",
   "name": "python3"
  },
  "language_info": {
   "codemirror_mode": {
    "name": "ipython",
    "version": 3
   },
   "file_extension": ".py",
   "mimetype": "text/x-python",
   "name": "python",
   "nbconvert_exporter": "python",
   "pygments_lexer": "ipython3",
   "version": "3.10.12"
  }
 },
 "nbformat": 4,
 "nbformat_minor": 5
}
