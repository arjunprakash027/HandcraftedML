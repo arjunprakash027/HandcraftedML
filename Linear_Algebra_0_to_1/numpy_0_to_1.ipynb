{
 "cells": [
  {
   "cell_type": "markdown",
   "id": "5881d3a3",
   "metadata": {},
   "source": [
    "This is not a numpy from ground up, but I try to use all the functions that numpy provides us to perform mathematical calculations"
   ]
  },
  {
   "cell_type": "markdown",
   "id": "bfae1bc2",
   "metadata": {},
   "source": [
    "## Internal workings of numpy\n",
    "\n",
    "### Basics\n",
    "- Written mostly in C lang and python is just a wrapper around it\n",
    "- Data is stored as contigeous block of memory that can be easily cached by CPU\n",
    "- Single Instruction Multiple Data paradigm used instead of Loops\n",
    "- ndarray is the wrapper around chunck of memory allocated in C\n",
    "\n",
    "### Vectorization\n",
    "- Vectorization is what sppeds up numpy computations\n",
    "- Instead of using python loops, numpy calls its internal C code to perform operations that involves looping \n",
    "- Uses SIMD to execute the operation parallely\n",
    "\n",
    "### Views\n",
    "- Points to same memory location but with different dimentions (ex, using reshape in numpy)\n",
    "\n",
    "### Linear Alg in numpy\n",
    "- uses BLAS and LAPACK (optimized C and Fortran program) for matrix operations\n",
    "- These are heavily CPU optimized codes \n",
    "- numpy does not parallalize comps by itself, BLAS and LAPACK does it \n",
    "\n",
    "### C order and F order\n",
    "- C order stores rows contegeously\n",
    "- F order stores columns contegeouly \n",
    "\n",
    "``` python\n",
    "import numpy as np\n",
    "\n",
    "# C-order (default)\n",
    "arr_c = np.array([[1, 2, 3],\n",
    "                  [4, 5, 6]], order='C')\n",
    "\n",
    "# Fortran-order\n",
    "arr_f = np.array([[1, 2, 3],\n",
    "                  [4, 5, 6]], order='F')\n",
    "arr_c:\n",
    "[1, 2, 3, 4, 5, 6]  # stored row-wise\n",
    "\n",
    "arr_f:\n",
    "[1, 4, 2, 5, 3, 6]  # stored column-wise\n",
    "```\n",
    "\n",
    "### How data memory is managed internally\n",
    "- WHen a ndarray is created, python creates a ndarray object but only stores the metadata such as pointer to location of data\n",
    "- Data is allocated a memory using c code inside and all the operations are done by c code on this data\n",
    "- When this object reference count goes to 0, the memory is de-allocated by c program \n",
    "\n",
    "Get in depth : https://jakevdp.github.io/PythonDataScienceHandbook/02.01-understanding-data-types.html"
   ]
  },
  {
   "cell_type": "code",
   "execution_count": 2,
   "id": "b1b75308",
   "metadata": {},
   "outputs": [],
   "source": [
    "import numpy as np"
   ]
  },
  {
   "cell_type": "code",
   "execution_count": 3,
   "id": "3a8c45b0",
   "metadata": {},
   "outputs": [
    {
     "name": "stdout",
     "output_type": "stream",
     "text": [
      "49.7 µs ± 1.1 µs per loop (mean ± std. dev. of 7 runs, 10,000 loops each)\n"
     ]
    }
   ],
   "source": [
    "# A general comparison between python loop and numpy \n",
    "\n",
    "def python_dot_prod(\n",
    "        a: list,\n",
    "        b: list\n",
    ") -> float:\n",
    "    \n",
    "    z = 0.\n",
    "\n",
    "    for i in range(len(a)):\n",
    "        z += a[i] * b[i]\n",
    "    \n",
    "    return z\n",
    "\n",
    "a = list(range(1000))\n",
    "b = list(range(1000))\n",
    "\n",
    "%timeit python_dot_prod(a,b)"
   ]
  },
  {
   "cell_type": "code",
   "execution_count": 11,
   "id": "adc49c84",
   "metadata": {},
   "outputs": [
    {
     "name": "stdout",
     "output_type": "stream",
     "text": [
      "1.01 µs ± 5.96 ns per loop (mean ± std. dev. of 7 runs, 1,000,000 loops each)\n"
     ]
    }
   ],
   "source": [
    "def numpy_dot_prod(\n",
    "        a: np.array,\n",
    "        b: np.array\n",
    ") -> float:\n",
    "    \n",
    "    return a.dot(b)\n",
    "\n",
    "a = np.arange(1000)\n",
    "b = np.arange(1000)\n",
    "\n",
    "%timeit numpy_dot_prod(a,b)"
   ]
  },
  {
   "cell_type": "code",
   "execution_count": 26,
   "id": "3e6785d4",
   "metadata": {},
   "outputs": [
    {
     "name": "stdout",
     "output_type": "stream",
     "text": [
      "[[1.+0.j 2.+0.j 3.+0.j]\n",
      " [4.+0.j 5.+0.j 6.+0.j]]\n",
      "complex64\n",
      "(24, 8)\n",
      "  C_CONTIGUOUS : True\n",
      "  F_CONTIGUOUS : False\n",
      "  OWNDATA : True\n",
      "  WRITEABLE : True\n",
      "  ALIGNED : True\n",
      "  WRITEBACKIFCOPY : False\n",
      "\n",
      "(2, 3)\n"
     ]
    }
   ],
   "source": [
    "# Workout on how to get the address of memory block the data is in and use stried to manually move in them\n",
    "lst = [[1, 2, 3], \n",
    "       [4, 5, 6]]\n",
    "ary2d = np.array(lst,order='C',dtype='complex64')\n",
    "\n",
    "print(ary2d)\n",
    "print(ary2d.dtype)\n",
    "print(ary2d.strides)\n",
    "print(ary2d.flags)\n",
    "print(ary2d.shape)"
   ]
  },
  {
   "cell_type": "code",
   "execution_count": 61,
   "id": "24d79b3b",
   "metadata": {},
   "outputs": [
    {
     "name": "stdout",
     "output_type": "stream",
     "text": [
      "[[1 1 1 1]\n",
      " [1 1 1 1]\n",
      " [1 1 1 1]]\n",
      "(16, 4)\n",
      "[[0 0 0 0]\n",
      " [0 0 0 0]\n",
      " [0 0 0 0]]\n",
      "[[69 69 69 69]\n",
      " [69 69 69 69]\n",
      " [69 69 69 69]]\n",
      "[[1. 0. 0. 0.]\n",
      " [0. 1. 0. 0.]\n",
      " [0. 0. 1. 0.]\n",
      " [0. 0. 0. 1.]]\n",
      "[0.1  0.11 0.12 0.13 0.14 0.15 0.16 0.17 0.18 0.19 0.2  0.21 0.22 0.23\n",
      " 0.24 0.25 0.26 0.27 0.28 0.29 0.3  0.31 0.32 0.33 0.34 0.35 0.36 0.37\n",
      " 0.38 0.39 0.4  0.41 0.42 0.43 0.44 0.45 0.46 0.47 0.48 0.49 0.5  0.51\n",
      " 0.52 0.53 0.54 0.55 0.56 0.57 0.58 0.59 0.6  0.61 0.62 0.63 0.64 0.65\n",
      " 0.66 0.67 0.68 0.69 0.7  0.71 0.72 0.73 0.74 0.75 0.76 0.77 0.78 0.79\n",
      " 0.8  0.81 0.82 0.83 0.84 0.85 0.86 0.87 0.88 0.89 0.9  0.91 0.92 0.93\n",
      " 0.94 0.95 0.96 0.97 0.98 0.99 1.   1.01 1.02 1.03 1.04 1.05 1.06 1.07\n",
      " 1.08 1.09]\n",
      "[0.5        0.61111111 0.72222222 0.83333333 0.94444444 1.05555556\n",
      " 1.16666667 1.27777778 1.38888889 1.5       ]\n",
      "[[  0.           8.        ]\n",
      " [  1.11111111  18.22222222]\n",
      " [  2.22222222  28.44444444]\n",
      " [  3.33333333  38.66666667]\n",
      " [  4.44444444  48.88888889]\n",
      " [  5.55555556  59.11111111]\n",
      " [  6.66666667  69.33333333]\n",
      " [  7.77777778  79.55555556]\n",
      " [  8.88888889  89.77777778]\n",
      " [ 10.         100.        ]]\n",
      "[[1 0 0]\n",
      " [0 2 0]\n",
      " [0 0 3]]\n",
      "[[1. 1. 0. 0. 0.]\n",
      " [0. 1. 1. 0. 0.]\n",
      " [0. 0. 1. 1. 0.]\n",
      " [0. 0. 0. 1. 1.]\n",
      " [0. 0. 0. 0. 1.]]\n"
     ]
    }
   ],
   "source": [
    "# Construct an array\n",
    "\n",
    "ones = np.ones((3,4),dtype='int32')\n",
    "print(ones)\n",
    "print(ones.strides)\n",
    "\n",
    "zeros = np.zeros((3,4),dtype='int32')\n",
    "print(zeros)\n",
    "\n",
    "# arrays containing arbitrary values\n",
    "sixtynines = np.zeros((3,4),dtype='int32') + 69\n",
    "print(sixtynines)\n",
    "\n",
    "# Identiy matrices using eye\n",
    "eye = np.eye(4)\n",
    "print(eye)\n",
    "\n",
    "#linspace and ranges\n",
    "ranges = np.arange(0.1,1.1,0.01)\n",
    "print(ranges)\n",
    "\n",
    "linspace = np.linspace(.5,1.5,10)\n",
    "print(linspace)\n",
    "\n",
    "\n",
    "# Interpolating\n",
    "start_pos = np.array([0, 8])\n",
    "end_pos = np.array([10, 100])\n",
    "\n",
    "positions = np.linspace(start_pos, end_pos, num=10)\n",
    "print(positions)\n",
    "\n",
    "diag = np.diag([1,2,3])\n",
    "print(diag)\n",
    "\n",
    "eye_more = np.eye(5) + np.eye(5,k=1)\n",
    "print(eye_more)"
   ]
  },
  {
   "cell_type": "markdown",
   "id": "ab95da6e",
   "metadata": {},
   "source": []
  },
  {
   "cell_type": "code",
   "execution_count": null,
   "id": "b1262f1b",
   "metadata": {},
   "outputs": [
    {
     "name": "stdout",
     "output_type": "stream",
     "text": [
      "[[2 3 4]\n",
      " [5 6 7]]\n",
      "new ary [[ 46.  70. 114.]\n",
      " [184. 286. 426.]]\n",
      "ary [[2 3 4]\n",
      " [5 6 7]]\n",
      "new ary 2 [[2. 3. 4.]\n",
      " [5. 6. 7.]]\n",
      "[[ 9. 12. 15.]]\n",
      "0.816496580927726\n",
      "0.6666666666666666\n",
      "[[13 36 59]\n",
      " [ 3  5  7]]\n",
      "[[2 3 4]\n",
      " [3 4 5]\n",
      " [4 5 6]]\n"
     ]
    }
   ],
   "source": [
    "# math and ufuncs\n",
    "ary = np.array([[1, 2, 3], [4, 5, 6]])\n",
    "ary = np.add(ary,1)\n",
    "print(ary)\n",
    "ary + 1 #is also possible\n",
    "\n",
    "#custom ufuncs using numba\n",
    "from numba import vectorize, guvectorize\n",
    "\n",
    "@vectorize(['float32(float32)','float64(float64)'],target='parallel')\n",
    "def non_linear(x):\n",
    "    return x**2 + x**3 + 34\n",
    "\n",
    "new_ary = non_linear(ary)\n",
    "\n",
    "print(\"new ary\",new_ary)\n",
    "print(\"ary\",ary)\n",
    "\n",
    "@guvectorize(['void(float64[:,:], float64[:,:])'], '(n,m) -> (n,m)')\n",
    "def reducer(x,out):\n",
    "    \n",
    "    for i in range(x.shape[0]):\n",
    "        out[i] = x[i]\n",
    "\n",
    "new_ary_2 = reducer(ary)\n",
    "print(\"new ary 2\",new_ary_2)\n",
    "\n",
    "@guvectorize(['void(float64[:], float64[:], float64[:], float64[:])'], '(n),(n),()->(n)')\n",
    "def scale_and_add(x, y, scalar_array, out):\n",
    "    scalar = scalar_array[0]\n",
    "    for i in range(x.shape[0]):\n",
    "        out[i] = x[i] + scalar * y[i]\n",
    "\n",
    "x = np.array([1., 2., 3.])\n",
    "y = np.array([4., 5., 6.])\n",
    "s = np.array([2.])\n",
    "\n",
    "result = scale_and_add(x, y, s)\n",
    "print(result)\n",
    "\n",
    "print(np.std(x))\n",
    "print(np.var(x))\n",
    "\n",
    "#Broadcaasting -> dimentions can be different but never numbewr of elements in each row\n",
    "print(np.array([1,2,3]) + np.array([[12,34,56],[2,3,4]]))\n",
    "\n",
    "print(np.array([1,2,3]) + np.array([[1],\n",
    "                                    [2],\n",
    "                                    [3]]))"
   ]
  },
  {
   "cell_type": "code",
   "execution_count": 45,
   "id": "9c4b2a9f",
   "metadata": {},
   "outputs": [
    {
     "name": "stdout",
     "output_type": "stream",
     "text": [
      "[4 5 6]\n",
      "[[1 2]\n",
      " [4 5]]\n",
      "[51 92 14 71 60 20 82 86 74 74]\n",
      "[[14 71]\n",
      " [60 86]]\n"
     ]
    }
   ],
   "source": [
    "# Indexing\n",
    "\n",
    "# Normal indexing creats a view, which is just a pointer with differnt strides to orignal array\n",
    "# Fancy indexsing is accesing non contegeous elements of the array and therefore creates a new array and not a view\n",
    "\n",
    "arr = np.array([[1,2,3],\n",
    "                [4,5,6]])\n",
    "\n",
    "arr2 = arr[1] #creates a view\n",
    "\n",
    "arr3 = arr[1].copy() #creates a copy\n",
    "print(arr2)\n",
    "\n",
    "fancy = arr[:,[0,1]] #fancy indexing, can be used for convolution \n",
    "print(fancy)\n",
    "\n",
    "# Select elemets from array based on its index as a matrix\n",
    "rand = np.random.RandomState(42)\n",
    "x = rand.randint(100, size=10)\n",
    "print(x)\n",
    "\n",
    "ind = np.array([[2,3],\n",
    "                [4,7]])\n",
    "\n",
    "print(x[ind])"
   ]
  },
  {
   "cell_type": "markdown",
   "id": "709c3ae1",
   "metadata": {},
   "source": [
    "Logical operators\n",
    "\n",
    "- A: & or np.bitwise_and\n",
    "- Or: | or np.bitwise_or\n",
    "- Xor: ^ or np.bitwise_xor\n",
    "- Not: ~ or np.bitwise_not"
   ]
  },
  {
   "cell_type": "code",
   "execution_count": 160,
   "id": "f806a2f8",
   "metadata": {},
   "outputs": [
    {
     "name": "stdout",
     "output_type": "stream",
     "text": [
      "[[False  True False]\n",
      " [ True False  True]]\n",
      "[[ 0 69  0]\n",
      " [69  0 69]]\n"
     ]
    }
   ],
   "source": [
    "# masks\n",
    "\n",
    "arr = np.array([[1,2,3],\n",
    "                [4,5,6]])\n",
    "\n",
    "even_mask = (arr % 2 == 0)\n",
    "\n",
    "print(even_mask)\n",
    "\n",
    "arr[even_mask]\n",
    "\n",
    "# where to replace values\n",
    "print(np.where(even_mask,69,0))"
   ]
  },
  {
   "cell_type": "code",
   "execution_count": null,
   "id": "9998f687",
   "metadata": {},
   "outputs": [
    {
     "name": "stdout",
     "output_type": "stream",
     "text": [
      "True\n",
      "[1 2 3 4 5 6]\n",
      "[1 2 3 4 5 6]\n",
      "[1 2 3 4 5 6]\n"
     ]
    }
   ],
   "source": [
    "# reshape array -> creates a new view of same array\n",
    "\n",
    "arr = np.array([[1,2,3],\n",
    "                [4,5,6]])\n",
    "\n",
    "arr_re = arr.reshape(3,2)\n",
    "\n",
    "print(np.may_share_memory(arr,arr_re)) # confirms its a view and not copy\n",
    "arr_re\n",
    "\n",
    "print(arr.reshape(-1))\n",
    "print(arr.flatten()) #view\n",
    "print(arr.ravel()) #copy"
   ]
  },
  {
   "cell_type": "code",
   "execution_count": 156,
   "id": "93e0daba",
   "metadata": {},
   "outputs": [
    {
     "name": "stdout",
     "output_type": "stream",
     "text": [
      "[[1 2 3]\n",
      " [4 5 6]\n",
      " [1 2 3]\n",
      " [4 5 6]]\n",
      "[[1 2 3 1 2 3]\n",
      " [4 5 6 4 5 6]]\n"
     ]
    }
   ],
   "source": [
    "# concatenating arrays\n",
    "\n",
    "arr = np.array([[1,2,3],\n",
    "                [4,5,6]])\n",
    "\n",
    "print(np.concatenate((arr,arr),axis=0))\n",
    "print(np.concatenate((arr,arr),axis=1))"
   ]
  },
  {
   "cell_type": "code",
   "execution_count": 12,
   "id": "3c03f8b4",
   "metadata": {},
   "outputs": [
    {
     "data": {
      "text/plain": [
       "array([[ 1.  ,  2.25],\n",
       "       [ 4.  ,  6.25],\n",
       "       [ 9.  , 12.25],\n",
       "       [16.  , 20.25],\n",
       "       [25.  , 30.25]])"
      ]
     },
     "execution_count": 12,
     "metadata": {},
     "output_type": "execute_result"
    }
   ],
   "source": [
    "x = np.arange(10).reshape(5,2)\n",
    "\n",
    "x % 7 # this is a ufunc\n",
    "\n",
    "(0.5*x + 1) ** 2 # a fullblown function is also possible with this"
   ]
  },
  {
   "cell_type": "code",
   "execution_count": 18,
   "id": "2303a1fd",
   "metadata": {},
   "outputs": [
    {
     "name": "stdout",
     "output_type": "stream",
     "text": [
      "[ 0.         -0.54402111  0.91294525 -0.98803162  0.74511316 -0.26237485\n",
      " -0.30481062  0.77389068 -0.99388865  0.89399666]\n",
      "[ 1.         -0.83907153  0.40808206  0.15425145 -0.66693806  0.96496603\n",
      " -0.95241298  0.6333192  -0.11038724 -0.44807362]\n"
     ]
    }
   ],
   "source": [
    "# trig functions\n",
    "theta = np.linspace(0, 90, 10)\n",
    "theta\n",
    "\n",
    "print(np.sin(theta))\n",
    "print(np.cos(theta))"
   ]
  },
  {
   "cell_type": "code",
   "execution_count": 20,
   "id": "5f2be6a4",
   "metadata": {},
   "outputs": [
    {
     "name": "stdout",
     "output_type": "stream",
     "text": [
      "gamma(x)     = [1.0000e+00 2.4000e+01 3.6288e+05]\n",
      "ln|gamma(x)| = [ 0.          3.17805383 12.80182748]\n",
      "beta(x, 2)   = [0.5        0.03333333 0.00909091]\n"
     ]
    }
   ],
   "source": [
    "# lot of ufuncs in scipy special\n",
    "from scipy import special\n",
    "\n",
    "x = [1, 5, 10]\n",
    "print(\"gamma(x)     =\", special.gamma(x))\n",
    "print(\"ln|gamma(x)| =\", special.gammaln(x))\n",
    "print(\"beta(x, 2)   =\", special.beta(x, 2))"
   ]
  },
  {
   "cell_type": "code",
   "execution_count": 22,
   "id": "bcc80953",
   "metadata": {},
   "outputs": [
    {
     "name": "stdout",
     "output_type": "stream",
     "text": [
      "15\n",
      "[ 1  3  6 10 15]\n"
     ]
    }
   ],
   "source": [
    "x = np.arange(1, 6)\n",
    "print(np.add.reduce(x))\n",
    "print(np.add.accumulate(x))\n"
   ]
  },
  {
   "cell_type": "code",
   "execution_count": 26,
   "id": "e5d90027",
   "metadata": {},
   "outputs": [
    {
     "name": "stdout",
     "output_type": "stream",
     "text": [
      "[[0.71433103 0.98793678 0.8494997  0.82148753]\n",
      " [0.42839492 0.53029615 0.16245022 0.06092353]\n",
      " [0.27207152 0.94326655 0.02795935 0.59941203]]\n",
      "6.39802931512255\n",
      "[3.37325505 1.18206482 1.84270945]\n",
      "[1.41479747 2.46149948 1.03990927 1.48182309]\n"
     ]
    }
   ],
   "source": [
    "# multi D aggregates\n",
    "\n",
    "M = np.random.random((3, 4))\n",
    "print(M)\n",
    "\n",
    "print(M.sum())\n",
    "\n",
    "print(M.sum(axis=1))\n",
    "print(M.sum(axis=0))"
   ]
  },
  {
   "cell_type": "code",
   "execution_count": 38,
   "id": "7ca96015",
   "metadata": {},
   "outputs": [
    {
     "name": "stdout",
     "output_type": "stream",
     "text": [
      "0b10100\n",
      "0b11110\n",
      "0b10100\n",
      "0b11110\n"
     ]
    }
   ],
   "source": [
    "print(bin(20))\n",
    "print(bin(30))\n",
    "print(bin(20 & 30))\n",
    "print(bin(20 | 30))"
   ]
  },
  {
   "cell_type": "code",
   "execution_count": null,
   "id": "397fc34d",
   "metadata": {},
   "outputs": [
    {
     "name": "stdout",
     "output_type": "stream",
     "text": [
      "[ True  True  True False  True  True]\n",
      "[ True False  True False  True False]\n"
     ]
    }
   ],
   "source": [
    "A = np.array([1, 0, 1, 0, 1, 0], dtype=bool)\n",
    "B = np.array([1, 1, 1, 0, 1, 1], dtype=bool)\n",
    "\n",
    "print(A | B)\n",
    "print(A & B)"
   ]
  },
  {
   "cell_type": "code",
   "execution_count": 84,
   "id": "9de584d1",
   "metadata": {},
   "outputs": [
    {
     "name": "stdout",
     "output_type": "stream",
     "text": [
      "[[ 0.46  0.16 -0.16]\n",
      " [-1.54 -1.54 -0.36]\n",
      " [ 0.16  0.66  0.24]\n",
      " [-0.14 -0.04 -0.06]\n",
      " [ 1.06  0.76  0.34]]\n",
      "[[ 0.46 -1.54  0.16 -0.14  1.06]\n",
      " [ 0.16 -1.54  0.66 -0.04  0.76]\n",
      " [-0.16 -0.36  0.24 -0.06  0.34]]\n",
      "[[3.752 3.362 0.888]\n",
      " [3.362 3.412 0.948]\n",
      " [0.888 0.948 0.332]]\n",
      "(5, 3)\n",
      "[[0.938  0.8405 0.222 ]\n",
      " [0.8405 0.853  0.237 ]\n",
      " [0.222  0.237  0.083 ]]\n",
      "[0.01332285 0.06232611 1.79835104]\n",
      "[[ 0.16346444 -0.68418706 -0.71075133]\n",
      " [-0.41610001  0.60541123 -0.67848214]\n",
      " [ 0.89450554  0.40665134 -0.18572704]]\n"
     ]
    }
   ],
   "source": [
    "# Building cov matrix and eigen values from it\n",
    "\n",
    "X = np.array([\n",
    "    [2.5, 2.4, 1.5],\n",
    "    [0.5, 0.7, 1.3],\n",
    "    [2.2, 2.9, 1.9],\n",
    "    [1.9, 2.2, 1.6],\n",
    "    [3.1, 3.0, 2.0]\n",
    "])\n",
    "\n",
    "#mean centering to find the cov matrix\n",
    "x_centered = X - np.mean(X,axis=0)\n",
    "\n",
    "print(x_centered)\n",
    "print(x_centered.T)\n",
    "print(np.dot(x_centered.T, x_centered))\n",
    "print(X.shape)\n",
    "\n",
    "cov_matrix = np.dot(x_centered.T, x_centered) / (x_centered.shape[0] - 1)\n",
    "print(cov_matrix)\n",
    "\n",
    "eigen_vals, eigen_vecs = np.linalg.eigh(cov_matrix)\n",
    "\n",
    "print(eigen_vals)\n",
    "print(eigen_vecs)"
   ]
  },
  {
   "cell_type": "code",
   "execution_count": 110,
   "id": "41fb4efb",
   "metadata": {},
   "outputs": [
    {
     "name": "stdout",
     "output_type": "stream",
     "text": [
      "[  9.10882438 100.89117562]\n",
      "[[ 10   9]\n",
      " [  9 100]]\n"
     ]
    },
    {
     "data": {
      "text/plain": [
       "<matplotlib.collections.PathCollection at 0x7fb0049e8850>"
      ]
     },
     "execution_count": 110,
     "metadata": {},
     "output_type": "execute_result"
    },
    {
     "data": {
      "image/png": "[encoded data removed]",
      "text/plain": [
       "<Figure size 640x480 with 1 Axes>"
      ]
     },
     "metadata": {},
     "output_type": "display_data"
    }
   ],
   "source": [
    "mean = [0,0]\n",
    "cov = np.array([\n",
    "       [10,9],\n",
    "       [9,100]]\n",
    "       )\n",
    "print(np.linalg.eigvals(cov))\n",
    "print(cov.T)\n",
    "x = rand.multivariate_normal(mean,cov,100,check_valid='raise')\n",
    "\n",
    "%matplotlib inline\n",
    "import matplotlib.pyplot as plt\n",
    "import seaborn\n",
    "seaborn.set()  # for plot styling\n",
    "\n",
    "plt.scatter(x[:, 0], x[:, 1])"
   ]
  },
  {
   "cell_type": "code",
   "execution_count": null,
   "id": "cf4dfcfb",
   "metadata": {},
   "outputs": [
    {
     "name": "stdout",
     "output_type": "stream",
     "text": [
      "[0. 0. 1. 1. 1. 0. 0. 0. 0. 0.]\n",
      "[0. 0. 2. 3. 4. 0. 0. 0. 0. 0.]\n"
     ]
    }
   ],
   "source": [
    "# Perform something at a particular index\n",
    "x = np.zeros(10)\n",
    "i = [2, 3, 3, 4, 4, 4]\n",
    "x[i] += 1\n",
    "print(x)\n",
    "\n",
    "np.add.at(x, i, 1)\n",
    "print(x)"
   ]
  },
  {
   "cell_type": "code",
   "execution_count": null,
   "id": "d51b0f04",
   "metadata": {},
   "outputs": [
    {
     "name": "stdout",
     "output_type": "stream",
     "text": [
      "[ 0.49671415 -0.1382643   0.64768854  1.52302986 -0.23415337 -0.23413696\n",
      "  1.57921282  0.76743473 -0.46947439  0.54256004 -0.46341769 -0.46572975\n",
      "  0.24196227 -1.91328024 -1.72491783 -0.56228753 -1.01283112  0.31424733\n",
      " -0.90802408 -1.4123037   1.46564877 -0.2257763   0.0675282  -1.42474819\n",
      " -0.54438272  0.11092259 -1.15099358  0.37569802 -0.60063869 -0.29169375\n",
      " -0.60170661  1.85227818 -0.01349722 -1.05771093  0.82254491 -1.22084365\n",
      "  0.2088636  -1.95967012 -1.32818605  0.19686124  0.73846658  0.17136828\n",
      " -0.11564828 -0.3011037  -1.47852199 -0.71984421 -0.46063877  1.05712223\n",
      "  0.34361829 -1.76304016  0.32408397 -0.38508228 -0.676922    0.61167629\n",
      "  1.03099952  0.93128012 -0.83921752 -0.30921238  0.33126343  0.97554513\n",
      " -0.47917424 -0.18565898 -1.10633497 -1.19620662  0.81252582  1.35624003\n",
      " -0.07201012  1.0035329   0.36163603 -0.64511975  0.36139561  1.53803657\n",
      " -0.03582604  1.56464366 -2.6197451   0.8219025   0.08704707 -0.29900735\n",
      "  0.09176078 -1.98756891 -0.21967189  0.35711257  1.47789404 -0.51827022\n",
      " -0.8084936  -0.50175704  0.91540212  0.32875111 -0.5297602   0.51326743\n",
      "  0.09707755  0.96864499 -0.70205309 -0.32766215 -0.39210815 -1.46351495\n",
      "  0.29612028  0.26105527  0.00511346 -0.23458713]\n",
      "[-5.         -4.47368421 -3.94736842 -3.42105263 -2.89473684 -2.36842105\n",
      " -1.84210526 -1.31578947 -0.78947368 -0.26315789  0.26315789  0.78947368\n",
      "  1.31578947  1.84210526  2.36842105  2.89473684  3.42105263  3.94736842\n",
      "  4.47368421  5.        ]\n"
     ]
    },
    {
     "data": {
      "text/plain": [
       "array([ 0.,  0.,  0.,  0.,  0.,  1.,  3.,  7.,  9., 23., 22., 17., 10.,\n",
       "        7.,  1.,  0.,  0.,  0.,  0.,  0.])"
      ]
     },
     "execution_count": 126,
     "metadata": {},
     "output_type": "execute_result"
    }
   ],
   "source": [
    "# binning\n",
    "\n",
    "np.random.seed(42)\n",
    "x = np.random.randn(100)\n",
    "\n",
    "print(x)\n",
    "bins = np.linspace(-5,5,20) #randn usually falls in this range\n",
    "\n",
    "print(bins)\n",
    "counts = np.zeros_like(bins)\n",
    "\n",
    "i = np.searchsorted(bins,x)\n",
    "\n",
    "np.add.at(counts, i, 1)\n",
    "\n",
    "counts"
   ]
  },
  {
   "cell_type": "code",
   "execution_count": null,
   "id": "f5dccdd3",
   "metadata": {},
   "outputs": [],
   "source": []
  }
 ],
 "metadata": {
  "kernelspec": {
   "display_name": "Python 3",
   "language": "python",
   "name": "python3"
  },
  "language_info": {
   "codemirror_mode": {
    "name": "ipython",
    "version": 3
   },
   "file_extension": ".py",
   "mimetype": "text/x-python",
   "name": "python",
   "nbconvert_exporter": "python",
   "pygments_lexer": "ipython3",
   "version": "3.10.12"
  }
 },
 "nbformat": 4,
 "nbformat_minor": 5
}
